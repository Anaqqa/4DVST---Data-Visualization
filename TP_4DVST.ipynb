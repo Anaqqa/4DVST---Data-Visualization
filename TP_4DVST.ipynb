{
  "nbformat": 4,
  "nbformat_minor": 0,
  "metadata": {
    "colab": {
      "provenance": [],
      "authorship_tag": "ABX9TyOPCS8FuLcPxuUQ4uw1hWIT",
      "include_colab_link": true
    },
    "kernelspec": {
      "name": "python3",
      "display_name": "Python 3"
    },
    "language_info": {
      "name": "python"
    }
  },
  "cells": [
    {
      "cell_type": "markdown",
      "metadata": {
        "id": "view-in-github",
        "colab_type": "text"
      },
      "source": [
        "<a href=\"https://colab.research.google.com/github/Anaqqa/4DVST---Data-Visualization/blob/main/TP_4DVST.ipynb\" target=\"_parent\"><img src=\"https://colab.research.google.com/assets/colab-badge.svg\" alt=\"Open In Colab\"/></a>"
      ]
    },
    {
      "cell_type": "markdown",
      "source": [
        "Installation des biblitothèquess nécessaires"
      ],
      "metadata": {
        "id": "LJiyCUxYeawK"
      }
    },
    {
      "cell_type": "code",
      "source": [
        "!pip install matplotlib seaborn plotly"
      ],
      "metadata": {
        "colab": {
          "base_uri": "https://localhost:8080/"
        },
        "id": "6PUVqmHGeRUD",
        "outputId": "25ad109f-5205-490c-f07b-9ce0611dee1a"
      },
      "execution_count": 169,
      "outputs": [
        {
          "output_type": "stream",
          "name": "stdout",
          "text": [
            "Requirement already satisfied: matplotlib in /usr/local/lib/python3.11/dist-packages (3.10.0)\n",
            "Requirement already satisfied: seaborn in /usr/local/lib/python3.11/dist-packages (0.13.2)\n",
            "Requirement already satisfied: plotly in /usr/local/lib/python3.11/dist-packages (5.24.1)\n",
            "Requirement already satisfied: contourpy>=1.0.1 in /usr/local/lib/python3.11/dist-packages (from matplotlib) (1.3.1)\n",
            "Requirement already satisfied: cycler>=0.10 in /usr/local/lib/python3.11/dist-packages (from matplotlib) (0.12.1)\n",
            "Requirement already satisfied: fonttools>=4.22.0 in /usr/local/lib/python3.11/dist-packages (from matplotlib) (4.57.0)\n",
            "Requirement already satisfied: kiwisolver>=1.3.1 in /usr/local/lib/python3.11/dist-packages (from matplotlib) (1.4.8)\n",
            "Requirement already satisfied: numpy>=1.23 in /usr/local/lib/python3.11/dist-packages (from matplotlib) (2.0.2)\n",
            "Requirement already satisfied: packaging>=20.0 in /usr/local/lib/python3.11/dist-packages (from matplotlib) (24.2)\n",
            "Requirement already satisfied: pillow>=8 in /usr/local/lib/python3.11/dist-packages (from matplotlib) (11.1.0)\n",
            "Requirement already satisfied: pyparsing>=2.3.1 in /usr/local/lib/python3.11/dist-packages (from matplotlib) (3.2.3)\n",
            "Requirement already satisfied: python-dateutil>=2.7 in /usr/local/lib/python3.11/dist-packages (from matplotlib) (2.8.2)\n",
            "Requirement already satisfied: pandas>=1.2 in /usr/local/lib/python3.11/dist-packages (from seaborn) (2.2.2)\n",
            "Requirement already satisfied: tenacity>=6.2.0 in /usr/local/lib/python3.11/dist-packages (from plotly) (9.1.2)\n",
            "Requirement already satisfied: pytz>=2020.1 in /usr/local/lib/python3.11/dist-packages (from pandas>=1.2->seaborn) (2025.2)\n",
            "Requirement already satisfied: tzdata>=2022.7 in /usr/local/lib/python3.11/dist-packages (from pandas>=1.2->seaborn) (2025.2)\n",
            "Requirement already satisfied: six>=1.5 in /usr/local/lib/python3.11/dist-packages (from python-dateutil>=2.7->matplotlib) (1.17.0)\n"
          ]
        }
      ]
    },
    {
      "cell_type": "code",
      "source": [
        "!pip install forex-python==1.6  # installez la bibliothèque forex-python si besoin\n",
        "from forex_python.converter import CurrencyRates"
      ],
      "metadata": {
        "colab": {
          "base_uri": "https://localhost:8080/"
        },
        "id": "lhbI9J_Qt1VQ",
        "outputId": "47603274-f088-4bde-9bd9-296c8e7ba95e"
      },
      "execution_count": 170,
      "outputs": [
        {
          "output_type": "stream",
          "name": "stdout",
          "text": [
            "Requirement already satisfied: forex-python==1.6 in /usr/local/lib/python3.11/dist-packages (1.6)\n",
            "Requirement already satisfied: requests in /usr/local/lib/python3.11/dist-packages (from forex-python==1.6) (2.32.3)\n",
            "Requirement already satisfied: simplejson in /usr/local/lib/python3.11/dist-packages (from forex-python==1.6) (3.20.1)\n",
            "Requirement already satisfied: charset-normalizer<4,>=2 in /usr/local/lib/python3.11/dist-packages (from requests->forex-python==1.6) (3.4.1)\n",
            "Requirement already satisfied: idna<4,>=2.5 in /usr/local/lib/python3.11/dist-packages (from requests->forex-python==1.6) (3.10)\n",
            "Requirement already satisfied: urllib3<3,>=1.21.1 in /usr/local/lib/python3.11/dist-packages (from requests->forex-python==1.6) (2.3.0)\n",
            "Requirement already satisfied: certifi>=2017.4.17 in /usr/local/lib/python3.11/dist-packages (from requests->forex-python==1.6) (2025.1.31)\n"
          ]
        }
      ]
    },
    {
      "cell_type": "code",
      "execution_count": 171,
      "metadata": {
        "id": "3PylRRBAXVtd"
      },
      "outputs": [],
      "source": [
        "import pandas as pd\n",
        "import matplotlib.pyplot as plt\n",
        "import seaborn as sns\n",
        "import plotly.express as px\n",
        "import plotly.offline as pyo\n",
        "import plotly.io as pio\n",
        "import plotly.graph_objects as go\n"
      ]
    },
    {
      "cell_type": "markdown",
      "source": [
        "#Import des données"
      ],
      "metadata": {
        "id": "iaZHvkYne6oQ"
      }
    },
    {
      "cell_type": "code",
      "source": [
        "def importer_donnees(chemin_fichier):\n",
        "  \"\"\"\n",
        "  Importe les données d'un fichier CSV.\n",
        "\n",
        "  Args:\n",
        "    chemin_fichier: Le chemin d'accès au fichier CSV.\n",
        "\n",
        "  Returns:\n",
        "    Un DataFrame pandas contenant les données.\n",
        "  \"\"\"\n",
        "  df = pd.read_csv(chemin_fichier)\n",
        "  return df"
      ],
      "metadata": {
        "id": "tv-ROeeWti9C"
      },
      "execution_count": 172,
      "outputs": []
    },
    {
      "cell_type": "code",
      "source": [
        "# Créer un dictionnaire avec le rennommage des noms de colonnes\n",
        "new_column_names = {\n",
        "    'brand_name': 'Marque',\n",
        "    'model': 'Modèle',\n",
        "    'price': 'Prix',\n",
        "    'avg_rating': 'Note Moyenne',\n",
        "    '5G_or_not': '5G',\n",
        "    'processor_brand': 'Marque Processeur',\n",
        "    'num_cores': 'Nombre de Coeurs',\n",
        "    'processor_speed': 'Vitesse Processeur',\n",
        "    'battery_capacity': 'Capacité Batterie',\n",
        "    'fast_charging_available': 'Charge Rapide Disponible',\n",
        "    'fast_charging': 'Charge Rapide',\n",
        "    'ram_capacity': 'RAM',\n",
        "    'internal_memory': 'Mémoire Interne',\n",
        "    'screen_size': 'Taille Écran',\n",
        "    'refresh_rate': 'Taux de Rafraîchissement',\n",
        "    'num_rear_cameras': 'Nombre Caméras Arrière',\n",
        "    'os': 'Système d''exploitation',\n",
        "    'primary_camera_rear': 'Caméra Principale Arrière',\n",
        "    'primary_camera_front': 'Caméra Principale Avant',\n",
        "    'extended_memory_available': 'Mémoire Extensible',\n",
        "    'resolution_height': 'Résolution Hauteur',\n",
        "    'resolution_width': 'Résolution Largeur'\n",
        "}"
      ],
      "metadata": {
        "id": "RpzPYqM2ukyF"
      },
      "execution_count": 173,
      "outputs": []
    },
    {
      "cell_type": "code",
      "source": [
        "def renommer_colonnes(df, new_column_names):\n",
        "  \"\"\"\n",
        "  Renomme les colonnes d'un DataFrame.\n",
        "\n",
        "  Args:\n",
        "    df: Le DataFrame pandas.\n",
        "    new_column_names: Un dictionnaire avec les traductions des noms de colonnes.\n",
        "\n",
        "  Returns:\n",
        "    Un DataFrame pandas avec les colonnes renommées.\n",
        "  \"\"\"\n",
        "  df = df.rename(columns=new_column_names)\n",
        "  return df"
      ],
      "metadata": {
        "id": "teqvJP6Ntm1E"
      },
      "execution_count": 174,
      "outputs": []
    },
    {
      "cell_type": "code",
      "source": [
        "def convertir_prix(df, colonne_prix, devise_source, devise_cible):\n",
        "  \"\"\"\n",
        "  Convertit les prix d'une colonne d'un DataFrame et remplace la colonne originale.\n",
        "\n",
        "  Args:\n",
        "    df: Le DataFrame pandas.\n",
        "    colonne_prix: Le nom de la colonne contenant les prix.\n",
        "    devise_source: La devise source.\n",
        "    devise_cible: La devise cible.\n",
        "\n",
        "  Returns:\n",
        "    Un DataFrame pandas avec les prix convertis dans la colonne originale.\n",
        "  \"\"\"\n",
        "  c = CurrencyRates()\n",
        "  taux_de_change = 0.012  # Taux de change fixe pour INR vers EUR\n",
        "  df[colonne_prix] = df[colonne_prix].apply(lambda x: x * taux_de_change)\n",
        "  return df"
      ],
      "metadata": {
        "id": "TvaiAtvStp8V"
      },
      "execution_count": 175,
      "outputs": []
    },
    {
      "cell_type": "code",
      "source": [
        "def pre_traitement(df):\n",
        "    # Vos fonctions de pré-traitement ici (ex: nettoyage, transformation, etc.)\n",
        "    df = renommer_colonnes(df, new_column_names)\n",
        "    df = convertir_prix(df, 'Prix', 'INR', 'EUR')\n",
        "    return df"
      ],
      "metadata": {
        "id": "pDu9jwhTyId0"
      },
      "execution_count": 176,
      "outputs": []
    },
    {
      "cell_type": "code",
      "source": [
        "#résumé du dataframe pour mieux comprendre la structure des données\n",
        "def analyse_descriptive(df):\n",
        "    # Vos fonctions d'analyse descriptive ici (ex: statistiques, distributions, etc.)\n",
        "    print(\"Nombre de lignes :\", df.shape[0])\n",
        "    df.info()\n",
        "    df.describe()\n",
        "    return  # ou retourner des résultats si besoin\n"
      ],
      "metadata": {
        "id": "XiytjF3-yO3w"
      },
      "execution_count": 177,
      "outputs": []
    },
    {
      "cell_type": "markdown",
      "source": [
        "#Traitement"
      ],
      "metadata": {
        "id": "y4-unbv6x__B"
      }
    },
    {
      "cell_type": "code",
      "source": [
        "# Importer les données, modifier le chemin du fichier si besoin\n",
        "df = importer_donnees('/content/sample_data/smartphones.csv')"
      ],
      "metadata": {
        "id": "dNuB2OGRX0TJ"
      },
      "execution_count": 179,
      "outputs": []
    },
    {
      "cell_type": "code",
      "source": [
        "pre_traitement(df)"
      ],
      "metadata": {
        "colab": {
          "base_uri": "https://localhost:8080/",
          "height": 999
        },
        "id": "-5mcSwk_0NwH",
        "outputId": "724e40b6-19bb-4a81-e03b-a21a22a8b091"
      },
      "execution_count": 184,
      "outputs": [
        {
          "output_type": "execute_result",
          "data": {
            "text/plain": [
              "     Marque                                     Modèle      Prix  \\\n",
              "0     apple                            Apple iPhone 11   467.988   \n",
              "1     apple                    Apple iPhone 11 (128GB)   563.988   \n",
              "2     apple                    Apple iPhone 11 Pro Max  1318.800   \n",
              "3     apple                            Apple iPhone 12   623.988   \n",
              "4     apple                    Apple iPhone 12 (128GB)   671.988   \n",
              "..      ...                                        ...       ...   \n",
              "975  xiaomi                    Xiaomi Redmi Note 9 Pro   167.988   \n",
              "976  xiaomi  Xiaomi Redmi Note 9 Pro (4GB RAM + 128GB)   173.268   \n",
              "977  xiaomi                Xiaomi Redmi Note 9 Pro Max   197.880   \n",
              "978     zte                               ZTE Axon 30S   239.988   \n",
              "979     zte                       ZTE Axon 40 Ultra 5G   743.880   \n",
              "\n",
              "     Note Moyenne  5G Marque Processeur  Nombre de Coeurs  Vitesse Processeur  \\\n",
              "0             7.3   0            bionic               6.0                2.65   \n",
              "1             7.5   0            bionic               6.0                2.65   \n",
              "2             7.7   0            bionic               6.0                2.65   \n",
              "3             7.4   1            bionic               6.0                3.10   \n",
              "4             7.5   1            bionic               6.0                3.10   \n",
              "..            ...  ..               ...               ...                 ...   \n",
              "975           7.5   0        snapdragon               8.0                2.30   \n",
              "976           7.7   0        snapdragon               8.0                2.30   \n",
              "977           8.0   0        snapdragon               8.0                2.30   \n",
              "978           8.2   1        snapdragon               8.0                3.20   \n",
              "979           8.9   1        snapdragon               8.0                3.00   \n",
              "\n",
              "     Capacité Batterie  Charge Rapide Disponible  ...  Mémoire Interne  \\\n",
              "0               3110.0                         0  ...               64   \n",
              "1               3110.0                         0  ...              128   \n",
              "2               3500.0                         1  ...               64   \n",
              "3                  NaN                         0  ...               64   \n",
              "4                  NaN                         0  ...              128   \n",
              "..                 ...                       ...  ...              ...   \n",
              "975             5020.0                         1  ...               64   \n",
              "976             5020.0                         1  ...              128   \n",
              "977             5020.0                         1  ...               64   \n",
              "978             4200.0                         1  ...              128   \n",
              "979             5000.0                         1  ...              128   \n",
              "\n",
              "     Taille Écran  Taux de Rafraîchissement  Nombre Caméras Arrière  \\\n",
              "0            6.10                        60                       2   \n",
              "1            6.10                        60                       2   \n",
              "2            6.50                        60                       3   \n",
              "3            6.10                        60                       2   \n",
              "4            6.10                        60                       2   \n",
              "..            ...                       ...                     ...   \n",
              "975          6.67                        60                       4   \n",
              "976          6.67                        60                       4   \n",
              "977          6.67                        60                       4   \n",
              "978          6.90                       120                       4   \n",
              "979          6.80                       120                       3   \n",
              "\n",
              "     Système dexploitation  Caméra Principale Arrière Caméra Principale Avant  \\\n",
              "0                      ios                       12.0                    12.0   \n",
              "1                      ios                       12.0                    12.0   \n",
              "2                      ios                       12.0                    12.0   \n",
              "3                      ios                       12.0                    12.0   \n",
              "4                      ios                       12.0                    12.0   \n",
              "..                     ...                        ...                     ...   \n",
              "975                android                       48.0                    16.0   \n",
              "976                android                       48.0                    16.0   \n",
              "977                android                       64.0                    32.0   \n",
              "978                android                       50.0                    16.0   \n",
              "979                android                       64.0                    16.0   \n",
              "\n",
              "     Mémoire Extensible  Résolution Hauteur  Résolution Largeur  \n",
              "0                     0                1792                 828  \n",
              "1                     0                1792                 828  \n",
              "2                     0                2688                1242  \n",
              "3                     0                2532                1170  \n",
              "4                     0                2532                1170  \n",
              "..                  ...                 ...                 ...  \n",
              "975                   1                2400                1080  \n",
              "976                   1                2400                1080  \n",
              "977                   1                2400                1080  \n",
              "978                   1                2460                1080  \n",
              "979                   0                2480                1116  \n",
              "\n",
              "[980 rows x 22 columns]"
            ],
            "text/html": [
              "\n",
              "  <div id=\"df-8c20656d-4f68-42cc-b86f-6f6ed59dcbd8\" class=\"colab-df-container\">\n",
              "    <div>\n",
              "<style scoped>\n",
              "    .dataframe tbody tr th:only-of-type {\n",
              "        vertical-align: middle;\n",
              "    }\n",
              "\n",
              "    .dataframe tbody tr th {\n",
              "        vertical-align: top;\n",
              "    }\n",
              "\n",
              "    .dataframe thead th {\n",
              "        text-align: right;\n",
              "    }\n",
              "</style>\n",
              "<table border=\"1\" class=\"dataframe\">\n",
              "  <thead>\n",
              "    <tr style=\"text-align: right;\">\n",
              "      <th></th>\n",
              "      <th>Marque</th>\n",
              "      <th>Modèle</th>\n",
              "      <th>Prix</th>\n",
              "      <th>Note Moyenne</th>\n",
              "      <th>5G</th>\n",
              "      <th>Marque Processeur</th>\n",
              "      <th>Nombre de Coeurs</th>\n",
              "      <th>Vitesse Processeur</th>\n",
              "      <th>Capacité Batterie</th>\n",
              "      <th>Charge Rapide Disponible</th>\n",
              "      <th>...</th>\n",
              "      <th>Mémoire Interne</th>\n",
              "      <th>Taille Écran</th>\n",
              "      <th>Taux de Rafraîchissement</th>\n",
              "      <th>Nombre Caméras Arrière</th>\n",
              "      <th>Système dexploitation</th>\n",
              "      <th>Caméra Principale Arrière</th>\n",
              "      <th>Caméra Principale Avant</th>\n",
              "      <th>Mémoire Extensible</th>\n",
              "      <th>Résolution Hauteur</th>\n",
              "      <th>Résolution Largeur</th>\n",
              "    </tr>\n",
              "  </thead>\n",
              "  <tbody>\n",
              "    <tr>\n",
              "      <th>0</th>\n",
              "      <td>apple</td>\n",
              "      <td>Apple iPhone 11</td>\n",
              "      <td>467.988</td>\n",
              "      <td>7.3</td>\n",
              "      <td>0</td>\n",
              "      <td>bionic</td>\n",
              "      <td>6.0</td>\n",
              "      <td>2.65</td>\n",
              "      <td>3110.0</td>\n",
              "      <td>0</td>\n",
              "      <td>...</td>\n",
              "      <td>64</td>\n",
              "      <td>6.10</td>\n",
              "      <td>60</td>\n",
              "      <td>2</td>\n",
              "      <td>ios</td>\n",
              "      <td>12.0</td>\n",
              "      <td>12.0</td>\n",
              "      <td>0</td>\n",
              "      <td>1792</td>\n",
              "      <td>828</td>\n",
              "    </tr>\n",
              "    <tr>\n",
              "      <th>1</th>\n",
              "      <td>apple</td>\n",
              "      <td>Apple iPhone 11 (128GB)</td>\n",
              "      <td>563.988</td>\n",
              "      <td>7.5</td>\n",
              "      <td>0</td>\n",
              "      <td>bionic</td>\n",
              "      <td>6.0</td>\n",
              "      <td>2.65</td>\n",
              "      <td>3110.0</td>\n",
              "      <td>0</td>\n",
              "      <td>...</td>\n",
              "      <td>128</td>\n",
              "      <td>6.10</td>\n",
              "      <td>60</td>\n",
              "      <td>2</td>\n",
              "      <td>ios</td>\n",
              "      <td>12.0</td>\n",
              "      <td>12.0</td>\n",
              "      <td>0</td>\n",
              "      <td>1792</td>\n",
              "      <td>828</td>\n",
              "    </tr>\n",
              "    <tr>\n",
              "      <th>2</th>\n",
              "      <td>apple</td>\n",
              "      <td>Apple iPhone 11 Pro Max</td>\n",
              "      <td>1318.800</td>\n",
              "      <td>7.7</td>\n",
              "      <td>0</td>\n",
              "      <td>bionic</td>\n",
              "      <td>6.0</td>\n",
              "      <td>2.65</td>\n",
              "      <td>3500.0</td>\n",
              "      <td>1</td>\n",
              "      <td>...</td>\n",
              "      <td>64</td>\n",
              "      <td>6.50</td>\n",
              "      <td>60</td>\n",
              "      <td>3</td>\n",
              "      <td>ios</td>\n",
              "      <td>12.0</td>\n",
              "      <td>12.0</td>\n",
              "      <td>0</td>\n",
              "      <td>2688</td>\n",
              "      <td>1242</td>\n",
              "    </tr>\n",
              "    <tr>\n",
              "      <th>3</th>\n",
              "      <td>apple</td>\n",
              "      <td>Apple iPhone 12</td>\n",
              "      <td>623.988</td>\n",
              "      <td>7.4</td>\n",
              "      <td>1</td>\n",
              "      <td>bionic</td>\n",
              "      <td>6.0</td>\n",
              "      <td>3.10</td>\n",
              "      <td>NaN</td>\n",
              "      <td>0</td>\n",
              "      <td>...</td>\n",
              "      <td>64</td>\n",
              "      <td>6.10</td>\n",
              "      <td>60</td>\n",
              "      <td>2</td>\n",
              "      <td>ios</td>\n",
              "      <td>12.0</td>\n",
              "      <td>12.0</td>\n",
              "      <td>0</td>\n",
              "      <td>2532</td>\n",
              "      <td>1170</td>\n",
              "    </tr>\n",
              "    <tr>\n",
              "      <th>4</th>\n",
              "      <td>apple</td>\n",
              "      <td>Apple iPhone 12 (128GB)</td>\n",
              "      <td>671.988</td>\n",
              "      <td>7.5</td>\n",
              "      <td>1</td>\n",
              "      <td>bionic</td>\n",
              "      <td>6.0</td>\n",
              "      <td>3.10</td>\n",
              "      <td>NaN</td>\n",
              "      <td>0</td>\n",
              "      <td>...</td>\n",
              "      <td>128</td>\n",
              "      <td>6.10</td>\n",
              "      <td>60</td>\n",
              "      <td>2</td>\n",
              "      <td>ios</td>\n",
              "      <td>12.0</td>\n",
              "      <td>12.0</td>\n",
              "      <td>0</td>\n",
              "      <td>2532</td>\n",
              "      <td>1170</td>\n",
              "    </tr>\n",
              "    <tr>\n",
              "      <th>...</th>\n",
              "      <td>...</td>\n",
              "      <td>...</td>\n",
              "      <td>...</td>\n",
              "      <td>...</td>\n",
              "      <td>...</td>\n",
              "      <td>...</td>\n",
              "      <td>...</td>\n",
              "      <td>...</td>\n",
              "      <td>...</td>\n",
              "      <td>...</td>\n",
              "      <td>...</td>\n",
              "      <td>...</td>\n",
              "      <td>...</td>\n",
              "      <td>...</td>\n",
              "      <td>...</td>\n",
              "      <td>...</td>\n",
              "      <td>...</td>\n",
              "      <td>...</td>\n",
              "      <td>...</td>\n",
              "      <td>...</td>\n",
              "      <td>...</td>\n",
              "    </tr>\n",
              "    <tr>\n",
              "      <th>975</th>\n",
              "      <td>xiaomi</td>\n",
              "      <td>Xiaomi Redmi Note 9 Pro</td>\n",
              "      <td>167.988</td>\n",
              "      <td>7.5</td>\n",
              "      <td>0</td>\n",
              "      <td>snapdragon</td>\n",
              "      <td>8.0</td>\n",
              "      <td>2.30</td>\n",
              "      <td>5020.0</td>\n",
              "      <td>1</td>\n",
              "      <td>...</td>\n",
              "      <td>64</td>\n",
              "      <td>6.67</td>\n",
              "      <td>60</td>\n",
              "      <td>4</td>\n",
              "      <td>android</td>\n",
              "      <td>48.0</td>\n",
              "      <td>16.0</td>\n",
              "      <td>1</td>\n",
              "      <td>2400</td>\n",
              "      <td>1080</td>\n",
              "    </tr>\n",
              "    <tr>\n",
              "      <th>976</th>\n",
              "      <td>xiaomi</td>\n",
              "      <td>Xiaomi Redmi Note 9 Pro (4GB RAM + 128GB)</td>\n",
              "      <td>173.268</td>\n",
              "      <td>7.7</td>\n",
              "      <td>0</td>\n",
              "      <td>snapdragon</td>\n",
              "      <td>8.0</td>\n",
              "      <td>2.30</td>\n",
              "      <td>5020.0</td>\n",
              "      <td>1</td>\n",
              "      <td>...</td>\n",
              "      <td>128</td>\n",
              "      <td>6.67</td>\n",
              "      <td>60</td>\n",
              "      <td>4</td>\n",
              "      <td>android</td>\n",
              "      <td>48.0</td>\n",
              "      <td>16.0</td>\n",
              "      <td>1</td>\n",
              "      <td>2400</td>\n",
              "      <td>1080</td>\n",
              "    </tr>\n",
              "    <tr>\n",
              "      <th>977</th>\n",
              "      <td>xiaomi</td>\n",
              "      <td>Xiaomi Redmi Note 9 Pro Max</td>\n",
              "      <td>197.880</td>\n",
              "      <td>8.0</td>\n",
              "      <td>0</td>\n",
              "      <td>snapdragon</td>\n",
              "      <td>8.0</td>\n",
              "      <td>2.30</td>\n",
              "      <td>5020.0</td>\n",
              "      <td>1</td>\n",
              "      <td>...</td>\n",
              "      <td>64</td>\n",
              "      <td>6.67</td>\n",
              "      <td>60</td>\n",
              "      <td>4</td>\n",
              "      <td>android</td>\n",
              "      <td>64.0</td>\n",
              "      <td>32.0</td>\n",
              "      <td>1</td>\n",
              "      <td>2400</td>\n",
              "      <td>1080</td>\n",
              "    </tr>\n",
              "    <tr>\n",
              "      <th>978</th>\n",
              "      <td>zte</td>\n",
              "      <td>ZTE Axon 30S</td>\n",
              "      <td>239.988</td>\n",
              "      <td>8.2</td>\n",
              "      <td>1</td>\n",
              "      <td>snapdragon</td>\n",
              "      <td>8.0</td>\n",
              "      <td>3.20</td>\n",
              "      <td>4200.0</td>\n",
              "      <td>1</td>\n",
              "      <td>...</td>\n",
              "      <td>128</td>\n",
              "      <td>6.90</td>\n",
              "      <td>120</td>\n",
              "      <td>4</td>\n",
              "      <td>android</td>\n",
              "      <td>50.0</td>\n",
              "      <td>16.0</td>\n",
              "      <td>1</td>\n",
              "      <td>2460</td>\n",
              "      <td>1080</td>\n",
              "    </tr>\n",
              "    <tr>\n",
              "      <th>979</th>\n",
              "      <td>zte</td>\n",
              "      <td>ZTE Axon 40 Ultra 5G</td>\n",
              "      <td>743.880</td>\n",
              "      <td>8.9</td>\n",
              "      <td>1</td>\n",
              "      <td>snapdragon</td>\n",
              "      <td>8.0</td>\n",
              "      <td>3.00</td>\n",
              "      <td>5000.0</td>\n",
              "      <td>1</td>\n",
              "      <td>...</td>\n",
              "      <td>128</td>\n",
              "      <td>6.80</td>\n",
              "      <td>120</td>\n",
              "      <td>3</td>\n",
              "      <td>android</td>\n",
              "      <td>64.0</td>\n",
              "      <td>16.0</td>\n",
              "      <td>0</td>\n",
              "      <td>2480</td>\n",
              "      <td>1116</td>\n",
              "    </tr>\n",
              "  </tbody>\n",
              "</table>\n",
              "<p>980 rows × 22 columns</p>\n",
              "</div>\n",
              "    <div class=\"colab-df-buttons\">\n",
              "\n",
              "  <div class=\"colab-df-container\">\n",
              "    <button class=\"colab-df-convert\" onclick=\"convertToInteractive('df-8c20656d-4f68-42cc-b86f-6f6ed59dcbd8')\"\n",
              "            title=\"Convert this dataframe to an interactive table.\"\n",
              "            style=\"display:none;\">\n",
              "\n",
              "  <svg xmlns=\"http://www.w3.org/2000/svg\" height=\"24px\" viewBox=\"0 -960 960 960\">\n",
              "    <path d=\"M120-120v-720h720v720H120Zm60-500h600v-160H180v160Zm220 220h160v-160H400v160Zm0 220h160v-160H400v160ZM180-400h160v-160H180v160Zm440 0h160v-160H620v160ZM180-180h160v-160H180v160Zm440 0h160v-160H620v160Z\"/>\n",
              "  </svg>\n",
              "    </button>\n",
              "\n",
              "  <style>\n",
              "    .colab-df-container {\n",
              "      display:flex;\n",
              "      gap: 12px;\n",
              "    }\n",
              "\n",
              "    .colab-df-convert {\n",
              "      background-color: #E8F0FE;\n",
              "      border: none;\n",
              "      border-radius: 50%;\n",
              "      cursor: pointer;\n",
              "      display: none;\n",
              "      fill: #1967D2;\n",
              "      height: 32px;\n",
              "      padding: 0 0 0 0;\n",
              "      width: 32px;\n",
              "    }\n",
              "\n",
              "    .colab-df-convert:hover {\n",
              "      background-color: #E2EBFA;\n",
              "      box-shadow: 0px 1px 2px rgba(60, 64, 67, 0.3), 0px 1px 3px 1px rgba(60, 64, 67, 0.15);\n",
              "      fill: #174EA6;\n",
              "    }\n",
              "\n",
              "    .colab-df-buttons div {\n",
              "      margin-bottom: 4px;\n",
              "    }\n",
              "\n",
              "    [theme=dark] .colab-df-convert {\n",
              "      background-color: #3B4455;\n",
              "      fill: #D2E3FC;\n",
              "    }\n",
              "\n",
              "    [theme=dark] .colab-df-convert:hover {\n",
              "      background-color: #434B5C;\n",
              "      box-shadow: 0px 1px 3px 1px rgba(0, 0, 0, 0.15);\n",
              "      filter: drop-shadow(0px 1px 2px rgba(0, 0, 0, 0.3));\n",
              "      fill: #FFFFFF;\n",
              "    }\n",
              "  </style>\n",
              "\n",
              "    <script>\n",
              "      const buttonEl =\n",
              "        document.querySelector('#df-8c20656d-4f68-42cc-b86f-6f6ed59dcbd8 button.colab-df-convert');\n",
              "      buttonEl.style.display =\n",
              "        google.colab.kernel.accessAllowed ? 'block' : 'none';\n",
              "\n",
              "      async function convertToInteractive(key) {\n",
              "        const element = document.querySelector('#df-8c20656d-4f68-42cc-b86f-6f6ed59dcbd8');\n",
              "        const dataTable =\n",
              "          await google.colab.kernel.invokeFunction('convertToInteractive',\n",
              "                                                    [key], {});\n",
              "        if (!dataTable) return;\n",
              "\n",
              "        const docLinkHtml = 'Like what you see? Visit the ' +\n",
              "          '<a target=\"_blank\" href=https://colab.research.google.com/notebooks/data_table.ipynb>data table notebook</a>'\n",
              "          + ' to learn more about interactive tables.';\n",
              "        element.innerHTML = '';\n",
              "        dataTable['output_type'] = 'display_data';\n",
              "        await google.colab.output.renderOutput(dataTable, element);\n",
              "        const docLink = document.createElement('div');\n",
              "        docLink.innerHTML = docLinkHtml;\n",
              "        element.appendChild(docLink);\n",
              "      }\n",
              "    </script>\n",
              "  </div>\n",
              "\n",
              "\n",
              "<div id=\"df-12e84f45-fa17-4b52-934c-47b75f70e80a\">\n",
              "  <button class=\"colab-df-quickchart\" onclick=\"quickchart('df-12e84f45-fa17-4b52-934c-47b75f70e80a')\"\n",
              "            title=\"Suggest charts\"\n",
              "            style=\"display:none;\">\n",
              "\n",
              "<svg xmlns=\"http://www.w3.org/2000/svg\" height=\"24px\"viewBox=\"0 0 24 24\"\n",
              "     width=\"24px\">\n",
              "    <g>\n",
              "        <path d=\"M19 3H5c-1.1 0-2 .9-2 2v14c0 1.1.9 2 2 2h14c1.1 0 2-.9 2-2V5c0-1.1-.9-2-2-2zM9 17H7v-7h2v7zm4 0h-2V7h2v10zm4 0h-2v-4h2v4z\"/>\n",
              "    </g>\n",
              "</svg>\n",
              "  </button>\n",
              "\n",
              "<style>\n",
              "  .colab-df-quickchart {\n",
              "      --bg-color: #E8F0FE;\n",
              "      --fill-color: #1967D2;\n",
              "      --hover-bg-color: #E2EBFA;\n",
              "      --hover-fill-color: #174EA6;\n",
              "      --disabled-fill-color: #AAA;\n",
              "      --disabled-bg-color: #DDD;\n",
              "  }\n",
              "\n",
              "  [theme=dark] .colab-df-quickchart {\n",
              "      --bg-color: #3B4455;\n",
              "      --fill-color: #D2E3FC;\n",
              "      --hover-bg-color: #434B5C;\n",
              "      --hover-fill-color: #FFFFFF;\n",
              "      --disabled-bg-color: #3B4455;\n",
              "      --disabled-fill-color: #666;\n",
              "  }\n",
              "\n",
              "  .colab-df-quickchart {\n",
              "    background-color: var(--bg-color);\n",
              "    border: none;\n",
              "    border-radius: 50%;\n",
              "    cursor: pointer;\n",
              "    display: none;\n",
              "    fill: var(--fill-color);\n",
              "    height: 32px;\n",
              "    padding: 0;\n",
              "    width: 32px;\n",
              "  }\n",
              "\n",
              "  .colab-df-quickchart:hover {\n",
              "    background-color: var(--hover-bg-color);\n",
              "    box-shadow: 0 1px 2px rgba(60, 64, 67, 0.3), 0 1px 3px 1px rgba(60, 64, 67, 0.15);\n",
              "    fill: var(--button-hover-fill-color);\n",
              "  }\n",
              "\n",
              "  .colab-df-quickchart-complete:disabled,\n",
              "  .colab-df-quickchart-complete:disabled:hover {\n",
              "    background-color: var(--disabled-bg-color);\n",
              "    fill: var(--disabled-fill-color);\n",
              "    box-shadow: none;\n",
              "  }\n",
              "\n",
              "  .colab-df-spinner {\n",
              "    border: 2px solid var(--fill-color);\n",
              "    border-color: transparent;\n",
              "    border-bottom-color: var(--fill-color);\n",
              "    animation:\n",
              "      spin 1s steps(1) infinite;\n",
              "  }\n",
              "\n",
              "  @keyframes spin {\n",
              "    0% {\n",
              "      border-color: transparent;\n",
              "      border-bottom-color: var(--fill-color);\n",
              "      border-left-color: var(--fill-color);\n",
              "    }\n",
              "    20% {\n",
              "      border-color: transparent;\n",
              "      border-left-color: var(--fill-color);\n",
              "      border-top-color: var(--fill-color);\n",
              "    }\n",
              "    30% {\n",
              "      border-color: transparent;\n",
              "      border-left-color: var(--fill-color);\n",
              "      border-top-color: var(--fill-color);\n",
              "      border-right-color: var(--fill-color);\n",
              "    }\n",
              "    40% {\n",
              "      border-color: transparent;\n",
              "      border-right-color: var(--fill-color);\n",
              "      border-top-color: var(--fill-color);\n",
              "    }\n",
              "    60% {\n",
              "      border-color: transparent;\n",
              "      border-right-color: var(--fill-color);\n",
              "    }\n",
              "    80% {\n",
              "      border-color: transparent;\n",
              "      border-right-color: var(--fill-color);\n",
              "      border-bottom-color: var(--fill-color);\n",
              "    }\n",
              "    90% {\n",
              "      border-color: transparent;\n",
              "      border-bottom-color: var(--fill-color);\n",
              "    }\n",
              "  }\n",
              "</style>\n",
              "\n",
              "  <script>\n",
              "    async function quickchart(key) {\n",
              "      const quickchartButtonEl =\n",
              "        document.querySelector('#' + key + ' button');\n",
              "      quickchartButtonEl.disabled = true;  // To prevent multiple clicks.\n",
              "      quickchartButtonEl.classList.add('colab-df-spinner');\n",
              "      try {\n",
              "        const charts = await google.colab.kernel.invokeFunction(\n",
              "            'suggestCharts', [key], {});\n",
              "      } catch (error) {\n",
              "        console.error('Error during call to suggestCharts:', error);\n",
              "      }\n",
              "      quickchartButtonEl.classList.remove('colab-df-spinner');\n",
              "      quickchartButtonEl.classList.add('colab-df-quickchart-complete');\n",
              "    }\n",
              "    (() => {\n",
              "      let quickchartButtonEl =\n",
              "        document.querySelector('#df-12e84f45-fa17-4b52-934c-47b75f70e80a button');\n",
              "      quickchartButtonEl.style.display =\n",
              "        google.colab.kernel.accessAllowed ? 'block' : 'none';\n",
              "    })();\n",
              "  </script>\n",
              "</div>\n",
              "\n",
              "    </div>\n",
              "  </div>\n"
            ],
            "application/vnd.google.colaboratory.intrinsic+json": {
              "type": "dataframe"
            }
          },
          "metadata": {},
          "execution_count": 184
        }
      ]
    },
    {
      "cell_type": "markdown",
      "source": [
        "#Description des data"
      ],
      "metadata": {
        "id": "qvRItZuOfEkm"
      }
    },
    {
      "cell_type": "code",
      "source": [
        "analyse_descriptive(df)"
      ],
      "metadata": {
        "colab": {
          "base_uri": "https://localhost:8080/"
        },
        "id": "ovohf0Lqya3K",
        "outputId": "5917403f-088f-4151-dfa8-4d32bbbaa196"
      },
      "execution_count": 183,
      "outputs": [
        {
          "output_type": "stream",
          "name": "stdout",
          "text": [
            "Nombre de lignes : 980\n",
            "<class 'pandas.core.frame.DataFrame'>\n",
            "RangeIndex: 980 entries, 0 to 979\n",
            "Data columns (total 22 columns):\n",
            " #   Column                     Non-Null Count  Dtype  \n",
            "---  ------                     --------------  -----  \n",
            " 0   brand_name                 980 non-null    object \n",
            " 1   model                      980 non-null    object \n",
            " 2   price                      980 non-null    int64  \n",
            " 3   avg_rating                 879 non-null    float64\n",
            " 4   5G_or_not                  980 non-null    int64  \n",
            " 5   processor_brand            960 non-null    object \n",
            " 6   num_cores                  974 non-null    float64\n",
            " 7   processor_speed            938 non-null    float64\n",
            " 8   battery_capacity           969 non-null    float64\n",
            " 9   fast_charging_available    980 non-null    int64  \n",
            " 10  fast_charging              769 non-null    float64\n",
            " 11  ram_capacity               980 non-null    int64  \n",
            " 12  internal_memory            980 non-null    int64  \n",
            " 13  screen_size                980 non-null    float64\n",
            " 14  refresh_rate               980 non-null    int64  \n",
            " 15  num_rear_cameras           980 non-null    int64  \n",
            " 16  os                         966 non-null    object \n",
            " 17  primary_camera_rear        980 non-null    float64\n",
            " 18  primary_camera_front       975 non-null    float64\n",
            " 19  extended_memory_available  980 non-null    int64  \n",
            " 20  resolution_height          980 non-null    int64  \n",
            " 21  resolution_width           980 non-null    int64  \n",
            "dtypes: float64(8), int64(10), object(4)\n",
            "memory usage: 168.6+ KB\n"
          ]
        }
      ]
    },
    {
      "cell_type": "markdown",
      "source": [
        "# Data Viz"
      ],
      "metadata": {
        "id": "FPt0rdOveZy3"
      }
    },
    {
      "cell_type": "code",
      "source": [
        "# Calculer les prix moyens par marque et trier par ordre décroissant\n",
        "average_prices = df.groupby('Marque')['Prix'].mean().reset_index()\n",
        "average_prices = average_prices.sort_values(by='Prix', ascending=False)\n",
        "\n",
        "# Sélectionner les 5 marques les plus chères\n",
        "top_5_expensive_brands = average_prices.head(5)\n",
        "\n",
        "# Créer le graphique à barres avec Plotly\n",
        "fig = go.Figure()\n",
        "fig.add_trace(go.Bar(x=top_5_expensive_brands['Marque'], y=top_5_expensive_brands['Prix']))\n",
        "\n",
        "# Personnaliser le graphique\n",
        "fig.update_layout(\n",
        "    title='Top 5 des marques les plus chères par prix moyen',\n",
        "    xaxis_title='Marque',\n",
        "    yaxis_title='Prix moyen',\n",
        "    plot_bgcolor='black',\n",
        "    paper_bgcolor='#595964',\n",
        "    font=dict(color='white')\n",
        ")\n",
        "\n",
        "# Afficher le graphique dans Colab\n",
        "pyo.init_notebook_mode(connected=True)\n",
        "pyo.iplot(fig)"
      ],
      "metadata": {
        "colab": {
          "base_uri": "https://localhost:8080/",
          "height": 388
        },
        "id": "VXSQSus_w-4-",
        "outputId": "fbdf3cc6-7a11-44cd-a97c-6a1adf822028"
      },
      "execution_count": 181,
      "outputs": [
        {
          "output_type": "error",
          "ename": "KeyError",
          "evalue": "'Marque'",
          "traceback": [
            "\u001b[0;31m---------------------------------------------------------------------------\u001b[0m",
            "\u001b[0;31mKeyError\u001b[0m                                  Traceback (most recent call last)",
            "\u001b[0;32m<ipython-input-181-e9d0c70ea009>\u001b[0m in \u001b[0;36m<cell line: 0>\u001b[0;34m()\u001b[0m\n\u001b[1;32m      1\u001b[0m \u001b[0;31m# Calculer les prix moyens par marque et trier par ordre décroissant\u001b[0m\u001b[0;34m\u001b[0m\u001b[0;34m\u001b[0m\u001b[0m\n\u001b[0;32m----> 2\u001b[0;31m \u001b[0maverage_prices\u001b[0m \u001b[0;34m=\u001b[0m \u001b[0mdf\u001b[0m\u001b[0;34m.\u001b[0m\u001b[0mgroupby\u001b[0m\u001b[0;34m(\u001b[0m\u001b[0;34m'Marque'\u001b[0m\u001b[0;34m)\u001b[0m\u001b[0;34m[\u001b[0m\u001b[0;34m'Prix'\u001b[0m\u001b[0;34m]\u001b[0m\u001b[0;34m.\u001b[0m\u001b[0mmean\u001b[0m\u001b[0;34m(\u001b[0m\u001b[0;34m)\u001b[0m\u001b[0;34m.\u001b[0m\u001b[0mreset_index\u001b[0m\u001b[0;34m(\u001b[0m\u001b[0;34m)\u001b[0m\u001b[0;34m\u001b[0m\u001b[0;34m\u001b[0m\u001b[0m\n\u001b[0m\u001b[1;32m      3\u001b[0m \u001b[0maverage_prices\u001b[0m \u001b[0;34m=\u001b[0m \u001b[0maverage_prices\u001b[0m\u001b[0;34m.\u001b[0m\u001b[0msort_values\u001b[0m\u001b[0;34m(\u001b[0m\u001b[0mby\u001b[0m\u001b[0;34m=\u001b[0m\u001b[0;34m'Prix'\u001b[0m\u001b[0;34m,\u001b[0m \u001b[0mascending\u001b[0m\u001b[0;34m=\u001b[0m\u001b[0;32mFalse\u001b[0m\u001b[0;34m)\u001b[0m\u001b[0;34m\u001b[0m\u001b[0;34m\u001b[0m\u001b[0m\n\u001b[1;32m      4\u001b[0m \u001b[0;34m\u001b[0m\u001b[0m\n\u001b[1;32m      5\u001b[0m \u001b[0;31m# Sélectionner les 5 marques les plus chères\u001b[0m\u001b[0;34m\u001b[0m\u001b[0;34m\u001b[0m\u001b[0m\n",
            "\u001b[0;32m/usr/local/lib/python3.11/dist-packages/pandas/core/frame.py\u001b[0m in \u001b[0;36mgroupby\u001b[0;34m(self, by, axis, level, as_index, sort, group_keys, observed, dropna)\u001b[0m\n\u001b[1;32m   9181\u001b[0m             \u001b[0;32mraise\u001b[0m \u001b[0mTypeError\u001b[0m\u001b[0;34m(\u001b[0m\u001b[0;34m\"You have to supply one of 'by' and 'level'\"\u001b[0m\u001b[0;34m)\u001b[0m\u001b[0;34m\u001b[0m\u001b[0;34m\u001b[0m\u001b[0m\n\u001b[1;32m   9182\u001b[0m \u001b[0;34m\u001b[0m\u001b[0m\n\u001b[0;32m-> 9183\u001b[0;31m         return DataFrameGroupBy(\n\u001b[0m\u001b[1;32m   9184\u001b[0m             \u001b[0mobj\u001b[0m\u001b[0;34m=\u001b[0m\u001b[0mself\u001b[0m\u001b[0;34m,\u001b[0m\u001b[0;34m\u001b[0m\u001b[0;34m\u001b[0m\u001b[0m\n\u001b[1;32m   9185\u001b[0m             \u001b[0mkeys\u001b[0m\u001b[0;34m=\u001b[0m\u001b[0mby\u001b[0m\u001b[0;34m,\u001b[0m\u001b[0;34m\u001b[0m\u001b[0;34m\u001b[0m\u001b[0m\n",
            "\u001b[0;32m/usr/local/lib/python3.11/dist-packages/pandas/core/groupby/groupby.py\u001b[0m in \u001b[0;36m__init__\u001b[0;34m(self, obj, keys, axis, level, grouper, exclusions, selection, as_index, sort, group_keys, observed, dropna)\u001b[0m\n\u001b[1;32m   1327\u001b[0m \u001b[0;34m\u001b[0m\u001b[0m\n\u001b[1;32m   1328\u001b[0m         \u001b[0;32mif\u001b[0m \u001b[0mgrouper\u001b[0m \u001b[0;32mis\u001b[0m \u001b[0;32mNone\u001b[0m\u001b[0;34m:\u001b[0m\u001b[0;34m\u001b[0m\u001b[0;34m\u001b[0m\u001b[0m\n\u001b[0;32m-> 1329\u001b[0;31m             grouper, exclusions, obj = get_grouper(\n\u001b[0m\u001b[1;32m   1330\u001b[0m                 \u001b[0mobj\u001b[0m\u001b[0;34m,\u001b[0m\u001b[0;34m\u001b[0m\u001b[0;34m\u001b[0m\u001b[0m\n\u001b[1;32m   1331\u001b[0m                 \u001b[0mkeys\u001b[0m\u001b[0;34m,\u001b[0m\u001b[0;34m\u001b[0m\u001b[0;34m\u001b[0m\u001b[0m\n",
            "\u001b[0;32m/usr/local/lib/python3.11/dist-packages/pandas/core/groupby/grouper.py\u001b[0m in \u001b[0;36mget_grouper\u001b[0;34m(obj, key, axis, level, sort, observed, validate, dropna)\u001b[0m\n\u001b[1;32m   1041\u001b[0m                 \u001b[0min_axis\u001b[0m\u001b[0;34m,\u001b[0m \u001b[0mlevel\u001b[0m\u001b[0;34m,\u001b[0m \u001b[0mgpr\u001b[0m \u001b[0;34m=\u001b[0m \u001b[0;32mFalse\u001b[0m\u001b[0;34m,\u001b[0m \u001b[0mgpr\u001b[0m\u001b[0;34m,\u001b[0m \u001b[0;32mNone\u001b[0m\u001b[0;34m\u001b[0m\u001b[0;34m\u001b[0m\u001b[0m\n\u001b[1;32m   1042\u001b[0m             \u001b[0;32melse\u001b[0m\u001b[0;34m:\u001b[0m\u001b[0;34m\u001b[0m\u001b[0;34m\u001b[0m\u001b[0m\n\u001b[0;32m-> 1043\u001b[0;31m                 \u001b[0;32mraise\u001b[0m \u001b[0mKeyError\u001b[0m\u001b[0;34m(\u001b[0m\u001b[0mgpr\u001b[0m\u001b[0;34m)\u001b[0m\u001b[0;34m\u001b[0m\u001b[0;34m\u001b[0m\u001b[0m\n\u001b[0m\u001b[1;32m   1044\u001b[0m         \u001b[0;32melif\u001b[0m \u001b[0misinstance\u001b[0m\u001b[0;34m(\u001b[0m\u001b[0mgpr\u001b[0m\u001b[0;34m,\u001b[0m \u001b[0mGrouper\u001b[0m\u001b[0;34m)\u001b[0m \u001b[0;32mand\u001b[0m \u001b[0mgpr\u001b[0m\u001b[0;34m.\u001b[0m\u001b[0mkey\u001b[0m \u001b[0;32mis\u001b[0m \u001b[0;32mnot\u001b[0m \u001b[0;32mNone\u001b[0m\u001b[0;34m:\u001b[0m\u001b[0;34m\u001b[0m\u001b[0;34m\u001b[0m\u001b[0m\n\u001b[1;32m   1045\u001b[0m             \u001b[0;31m# Add key to exclusions\u001b[0m\u001b[0;34m\u001b[0m\u001b[0;34m\u001b[0m\u001b[0m\n",
            "\u001b[0;31mKeyError\u001b[0m: 'Marque'"
          ]
        }
      ]
    },
    {
      "cell_type": "code",
      "source": [
        "# Créer une nouvelle colonne \"Marque_groupe\" qui regroupe les marques ayant moins de 10 occurrences sous l'étiquette 'Autres'. N'hésitez pas à ajuster ce seuil (10) selon vos données.\n",
        "df['Marque_groupe'] = df['Marque'].apply(lambda x: x if df['Marque'].value_counts()[x] > 10 else 'Autres')\n",
        "\n",
        "# Créer le boxplot avec la nouvelle colonne\n",
        "sns.boxplot(x='Marque_groupe', y='Prix', data=df)\n",
        "plt.title('Distribution des prix par marque')\n",
        "plt.xticks(rotation=45, ha='right')\n",
        "plt.show()"
      ],
      "metadata": {
        "id": "apL3c-fGeZm7"
      },
      "execution_count": null,
      "outputs": []
    },
    {
      "cell_type": "code",
      "source": [
        "sns.violinplot(x='Marque_groupe', y='Prix', data=df)\n",
        "plt.title('Distribution des prix par marque')\n",
        "plt.xticks(rotation=45, ha='right')\n",
        "plt.show()"
      ],
      "metadata": {
        "id": "tZ8l6f2tow-Y"
      },
      "execution_count": null,
      "outputs": []
    },
    {
      "cell_type": "code",
      "source": [
        "g = sns.FacetGrid(df, col='Marque', col_wrap=4, sharey=False) # col_wrap=4 crée 4 graphiques par ligne\n",
        "g.map(sns.boxplot, 'Prix')\n",
        "plt.show()"
      ],
      "metadata": {
        "id": "0qqgq9wapAru"
      },
      "execution_count": null,
      "outputs": []
    },
    {
      "cell_type": "code",
      "source": [
        "sns.boxplot(x='Marque', y='Prix', data=df)\n",
        "plt.title('Distribution des prix par marque')\n",
        "plt.xticks(rotation=45, ha='right')\n",
        "plt.yscale('log') # Appliquer l'échelle logarithmique\n",
        "plt.show()"
      ],
      "metadata": {
        "id": "4vSG3H8ppLad"
      },
      "execution_count": null,
      "outputs": []
    },
    {
      "cell_type": "code",
      "source": [
        "import plotly.express as px\n",
        "\n",
        "# Calculer la moyenne des prix pour chaque marque\n",
        "order = df.groupby('Marque')['Prix'].mean().sort_values(ascending=False).index\n",
        "\n",
        "# Créer le boxplot avec l'ordre spécifié\n",
        "fig = px.box(df,\n",
        "             x='Marque',\n",
        "             y='Prix',\n",
        "             title='Distribution des prix par marque (trié par moyenne)',\n",
        "             category_orders={'Marque': order.tolist()},\n",
        "             hover_data=['Modèle'])  # Afficher le modèle au survol\n",
        "fig.update_xaxes(tickangle=45)\n",
        "fig.update_layout(width=1000, height=600)  # Ajuster la taille\n",
        "fig.show()"
      ],
      "metadata": {
        "id": "hmUN91-xpSZB"
      },
      "execution_count": null,
      "outputs": []
    },
    {
      "cell_type": "code",
      "source": [
        "sns.scatterplot(x='RAM', y='Prix', hue='Marque', data=df)\n",
        "plt.xlabel('RAM')\n",
        "plt.ylabel('Prix')\n",
        "plt.title('RAM vs Prix par Marque')\n",
        "plt.legend() # adding a legend to the plot\n",
        "plt.show()"
      ],
      "metadata": {
        "id": "oq2FDnRbb1fQ"
      },
      "execution_count": null,
      "outputs": []
    },
    {
      "cell_type": "code",
      "source": [
        "sns.boxplot(x='Marque', y='Prix', data=df)\n",
        "plt.title('Distribution des prix par marque')\n",
        "plt.xticks(rotation=45, ha='right')\n",
        "plt.show()"
      ],
      "metadata": {
        "id": "vcrU8P75gLqo"
      },
      "execution_count": null,
      "outputs": []
    },
    {
      "cell_type": "code",
      "source": [
        "sns.scatterplot(x='RAM', y='Prix', hue='5G', data=df)\n",
        "plt.xlabel('RAM')\n",
        "plt.ylabel('Prix')\n",
        "plt.title('RAM vs Prix par 5G')\n",
        "plt.legend() # adding a legend to the plot\n",
        "plt.show()"
      ],
      "metadata": {
        "id": "g3uoYkn5gUEk"
      },
      "execution_count": null,
      "outputs": []
    },
    {
      "cell_type": "code",
      "source": [
        "sns.violinplot(x='Système d\\'exploitation', y='Note Moyenne', data=df)\n",
        "plt.title('Distribution des notes par système d\\'exploitation')\n",
        "plt.xticks(rotation=45, ha='right')\n",
        "plt.show()"
      ],
      "metadata": {
        "id": "aVMpCgelnU98"
      },
      "execution_count": null,
      "outputs": []
    },
    {
      "cell_type": "code",
      "source": [
        "fig = px.bar(df.groupby('Marque Processeur')['Prix'].mean().reset_index(),\n",
        "             x='Marque Processeur', y='Prix', title='Prix moyen par marque de processeur')\n",
        "fig.update_xaxes(tickangle=45, tickmode='linear')\n",
        "fig.show()"
      ],
      "metadata": {
        "id": "mERSD1kdnbL6"
      },
      "execution_count": null,
      "outputs": []
    },
    {
      "cell_type": "code",
      "source": [
        "sns.violinplot(x='Brand', y='Rating', data=df)\n",
        "plt.title('Distribution des notes par marque')\n",
        "plt.xticks(rotation=45, ha='right')\n",
        "plt.show()"
      ],
      "metadata": {
        "id": "73-90l_tgXzv"
      },
      "execution_count": null,
      "outputs": []
    },
    {
      "cell_type": "code",
      "source": [
        "fig = px.bar(df.groupby('Brand')['Price (USD)'].mean().reset_index(),\n",
        "             x='Brand', y='Price (USD)', title='Prix moyen par marque')\n",
        "fig.update_xaxes(tickangle=45, tickmode='linear')\n",
        "fig.show()"
      ],
      "metadata": {
        "id": "NqSjk1Z0gb3k"
      },
      "execution_count": null,
      "outputs": []
    },
    {
      "cell_type": "code",
      "source": [
        "fig = px.scatter(df, x='Taille Écran', y='Prix', size='Capacité Batterie',\n",
        "                 color='Marque', title='Taille de l''écran vs Prix, avec Capacité Batterie comme taille des points',\n",
        "                 hover_data=['Modèle'])\n",
        "fig.show()"
      ],
      "metadata": {
        "id": "089Tpp3jjBWn"
      },
      "execution_count": null,
      "outputs": []
    },
    {
      "cell_type": "code",
      "source": [
        "fig = px.imshow(df.corr(), title='Matrice de corrélation',\n",
        "                x=df.select_dtypes(include=['number']).columns,\n",
        "                y=df.select_dtypes(include=['number']).columns)\n",
        "fig.show()"
      ],
      "metadata": {
        "id": "moqQIzB0nl5P"
      },
      "execution_count": null,
      "outputs": []
    }
  ]
}