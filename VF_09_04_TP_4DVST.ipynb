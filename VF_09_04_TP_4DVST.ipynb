{
  "nbformat": 4,
  "nbformat_minor": 0,
  "metadata": {
    "colab": {
      "provenance": [],
      "authorship_tag": "ABX9TyPSsPiLZQHB9R/yluWxsPq0",
      "include_colab_link": true
    },
    "kernelspec": {
      "name": "python3",
      "display_name": "Python 3"
    },
    "language_info": {
      "name": "python"
    }
  },
  "cells": [
    {
      "cell_type": "markdown",
      "metadata": {
        "id": "view-in-github",
        "colab_type": "text"
      },
      "source": [
        "<a href=\"https://colab.research.google.com/github/Anaqqa/4DVST---Data-Visualization/blob/main/VF_09_04_TP_4DVST.ipynb\" target=\"_parent\"><img src=\"https://colab.research.google.com/assets/colab-badge.svg\" alt=\"Open In Colab\"/></a>"
      ]
    },
    {
      "cell_type": "markdown",
      "source": [
        "Installation des biblitothèquess nécessaires"
      ],
      "metadata": {
        "id": "LJiyCUxYeawK"
      }
    },
    {
      "cell_type": "code",
      "source": [
        "!pip install matplotlib seaborn plotly"
      ],
      "metadata": {
        "colab": {
          "base_uri": "https://localhost:8080/"
        },
        "id": "6PUVqmHGeRUD",
        "outputId": "c7fa5200-1af3-4ff7-bab4-ef8957a01289"
      },
      "execution_count": 25,
      "outputs": [
        {
          "output_type": "stream",
          "name": "stdout",
          "text": [
            "Requirement already satisfied: matplotlib in /usr/local/lib/python3.11/dist-packages (3.10.0)\n",
            "Requirement already satisfied: seaborn in /usr/local/lib/python3.11/dist-packages (0.13.2)\n",
            "Requirement already satisfied: plotly in /usr/local/lib/python3.11/dist-packages (5.24.1)\n",
            "Requirement already satisfied: contourpy>=1.0.1 in /usr/local/lib/python3.11/dist-packages (from matplotlib) (1.3.1)\n",
            "Requirement already satisfied: cycler>=0.10 in /usr/local/lib/python3.11/dist-packages (from matplotlib) (0.12.1)\n",
            "Requirement already satisfied: fonttools>=4.22.0 in /usr/local/lib/python3.11/dist-packages (from matplotlib) (4.57.0)\n",
            "Requirement already satisfied: kiwisolver>=1.3.1 in /usr/local/lib/python3.11/dist-packages (from matplotlib) (1.4.8)\n",
            "Requirement already satisfied: numpy>=1.23 in /usr/local/lib/python3.11/dist-packages (from matplotlib) (2.0.2)\n",
            "Requirement already satisfied: packaging>=20.0 in /usr/local/lib/python3.11/dist-packages (from matplotlib) (24.2)\n",
            "Requirement already satisfied: pillow>=8 in /usr/local/lib/python3.11/dist-packages (from matplotlib) (11.1.0)\n",
            "Requirement already satisfied: pyparsing>=2.3.1 in /usr/local/lib/python3.11/dist-packages (from matplotlib) (3.2.3)\n",
            "Requirement already satisfied: python-dateutil>=2.7 in /usr/local/lib/python3.11/dist-packages (from matplotlib) (2.8.2)\n",
            "Requirement already satisfied: pandas>=1.2 in /usr/local/lib/python3.11/dist-packages (from seaborn) (2.2.2)\n",
            "Requirement already satisfied: tenacity>=6.2.0 in /usr/local/lib/python3.11/dist-packages (from plotly) (9.1.2)\n",
            "Requirement already satisfied: pytz>=2020.1 in /usr/local/lib/python3.11/dist-packages (from pandas>=1.2->seaborn) (2025.2)\n",
            "Requirement already satisfied: tzdata>=2022.7 in /usr/local/lib/python3.11/dist-packages (from pandas>=1.2->seaborn) (2025.2)\n",
            "Requirement already satisfied: six>=1.5 in /usr/local/lib/python3.11/dist-packages (from python-dateutil>=2.7->matplotlib) (1.17.0)\n"
          ]
        }
      ]
    },
    {
      "cell_type": "code",
      "source": [
        "!pip install forex-python==1.6  # installez la bibliothèque forex-python si besoin\n",
        "from forex_python.converter import CurrencyRates"
      ],
      "metadata": {
        "colab": {
          "base_uri": "https://localhost:8080/"
        },
        "id": "lhbI9J_Qt1VQ",
        "outputId": "5b78a280-ddf1-4053-e5ab-8a8ad833131a"
      },
      "execution_count": 26,
      "outputs": [
        {
          "output_type": "stream",
          "name": "stdout",
          "text": [
            "Requirement already satisfied: forex-python==1.6 in /usr/local/lib/python3.11/dist-packages (1.6)\n",
            "Requirement already satisfied: requests in /usr/local/lib/python3.11/dist-packages (from forex-python==1.6) (2.32.3)\n",
            "Requirement already satisfied: simplejson in /usr/local/lib/python3.11/dist-packages (from forex-python==1.6) (3.20.1)\n",
            "Requirement already satisfied: charset-normalizer<4,>=2 in /usr/local/lib/python3.11/dist-packages (from requests->forex-python==1.6) (3.4.1)\n",
            "Requirement already satisfied: idna<4,>=2.5 in /usr/local/lib/python3.11/dist-packages (from requests->forex-python==1.6) (3.10)\n",
            "Requirement already satisfied: urllib3<3,>=1.21.1 in /usr/local/lib/python3.11/dist-packages (from requests->forex-python==1.6) (2.3.0)\n",
            "Requirement already satisfied: certifi>=2017.4.17 in /usr/local/lib/python3.11/dist-packages (from requests->forex-python==1.6) (2025.1.31)\n"
          ]
        }
      ]
    },
    {
      "cell_type": "code",
      "source": [
        "!pip install cufflinks"
      ],
      "metadata": {
        "colab": {
          "base_uri": "https://localhost:8080/"
        },
        "id": "g08fhHd22sZ_",
        "outputId": "864c162d-fda9-4dcb-ff8d-0345040eaf29"
      },
      "execution_count": null,
      "outputs": [
        {
          "output_type": "stream",
          "name": "stdout",
          "text": [
            "Requirement already satisfied: cufflinks in /usr/local/lib/python3.11/dist-packages (0.17.3)\n",
            "Requirement already satisfied: numpy>=1.9.2 in /usr/local/lib/python3.11/dist-packages (from cufflinks) (2.0.2)\n",
            "Requirement already satisfied: pandas>=0.19.2 in /usr/local/lib/python3.11/dist-packages (from cufflinks) (2.2.2)\n",
            "Requirement already satisfied: plotly>=4.1.1 in /usr/local/lib/python3.11/dist-packages (from cufflinks) (5.24.1)\n",
            "Requirement already satisfied: six>=1.9.0 in /usr/local/lib/python3.11/dist-packages (from cufflinks) (1.17.0)\n",
            "Requirement already satisfied: colorlover>=0.2.1 in /usr/local/lib/python3.11/dist-packages (from cufflinks) (0.3.0)\n",
            "Requirement already satisfied: setuptools>=34.4.1 in /usr/local/lib/python3.11/dist-packages (from cufflinks) (75.2.0)\n",
            "Requirement already satisfied: ipython>=5.3.0 in /usr/local/lib/python3.11/dist-packages (from cufflinks) (7.34.0)\n",
            "Requirement already satisfied: ipywidgets>=7.0.0 in /usr/local/lib/python3.11/dist-packages (from cufflinks) (7.7.1)\n",
            "Requirement already satisfied: jedi>=0.16 in /usr/local/lib/python3.11/dist-packages (from ipython>=5.3.0->cufflinks) (0.19.2)\n",
            "Requirement already satisfied: decorator in /usr/local/lib/python3.11/dist-packages (from ipython>=5.3.0->cufflinks) (4.4.2)\n",
            "Requirement already satisfied: pickleshare in /usr/local/lib/python3.11/dist-packages (from ipython>=5.3.0->cufflinks) (0.7.5)\n",
            "Requirement already satisfied: traitlets>=4.2 in /usr/local/lib/python3.11/dist-packages (from ipython>=5.3.0->cufflinks) (5.7.1)\n",
            "Requirement already satisfied: prompt-toolkit!=3.0.0,!=3.0.1,<3.1.0,>=2.0.0 in /usr/local/lib/python3.11/dist-packages (from ipython>=5.3.0->cufflinks) (3.0.50)\n",
            "Requirement already satisfied: pygments in /usr/local/lib/python3.11/dist-packages (from ipython>=5.3.0->cufflinks) (2.18.0)\n",
            "Requirement already satisfied: backcall in /usr/local/lib/python3.11/dist-packages (from ipython>=5.3.0->cufflinks) (0.2.0)\n",
            "Requirement already satisfied: matplotlib-inline in /usr/local/lib/python3.11/dist-packages (from ipython>=5.3.0->cufflinks) (0.1.7)\n",
            "Requirement already satisfied: pexpect>4.3 in /usr/local/lib/python3.11/dist-packages (from ipython>=5.3.0->cufflinks) (4.9.0)\n",
            "Requirement already satisfied: ipykernel>=4.5.1 in /usr/local/lib/python3.11/dist-packages (from ipywidgets>=7.0.0->cufflinks) (6.17.1)\n",
            "Requirement already satisfied: ipython-genutils~=0.2.0 in /usr/local/lib/python3.11/dist-packages (from ipywidgets>=7.0.0->cufflinks) (0.2.0)\n",
            "Requirement already satisfied: widgetsnbextension~=3.6.0 in /usr/local/lib/python3.11/dist-packages (from ipywidgets>=7.0.0->cufflinks) (3.6.10)\n",
            "Requirement already satisfied: jupyterlab-widgets>=1.0.0 in /usr/local/lib/python3.11/dist-packages (from ipywidgets>=7.0.0->cufflinks) (3.0.13)\n",
            "Requirement already satisfied: python-dateutil>=2.8.2 in /usr/local/lib/python3.11/dist-packages (from pandas>=0.19.2->cufflinks) (2.8.2)\n",
            "Requirement already satisfied: pytz>=2020.1 in /usr/local/lib/python3.11/dist-packages (from pandas>=0.19.2->cufflinks) (2025.2)\n",
            "Requirement already satisfied: tzdata>=2022.7 in /usr/local/lib/python3.11/dist-packages (from pandas>=0.19.2->cufflinks) (2025.2)\n",
            "Requirement already satisfied: tenacity>=6.2.0 in /usr/local/lib/python3.11/dist-packages (from plotly>=4.1.1->cufflinks) (9.1.2)\n",
            "Requirement already satisfied: packaging in /usr/local/lib/python3.11/dist-packages (from plotly>=4.1.1->cufflinks) (24.2)\n",
            "Requirement already satisfied: debugpy>=1.0 in /usr/local/lib/python3.11/dist-packages (from ipykernel>=4.5.1->ipywidgets>=7.0.0->cufflinks) (1.8.0)\n",
            "Requirement already satisfied: jupyter-client>=6.1.12 in /usr/local/lib/python3.11/dist-packages (from ipykernel>=4.5.1->ipywidgets>=7.0.0->cufflinks) (6.1.12)\n",
            "Requirement already satisfied: nest-asyncio in /usr/local/lib/python3.11/dist-packages (from ipykernel>=4.5.1->ipywidgets>=7.0.0->cufflinks) (1.6.0)\n",
            "Requirement already satisfied: psutil in /usr/local/lib/python3.11/dist-packages (from ipykernel>=4.5.1->ipywidgets>=7.0.0->cufflinks) (5.9.5)\n",
            "Requirement already satisfied: pyzmq>=17 in /usr/local/lib/python3.11/dist-packages (from ipykernel>=4.5.1->ipywidgets>=7.0.0->cufflinks) (24.0.1)\n",
            "Requirement already satisfied: tornado>=6.1 in /usr/local/lib/python3.11/dist-packages (from ipykernel>=4.5.1->ipywidgets>=7.0.0->cufflinks) (6.4.2)\n",
            "Requirement already satisfied: parso<0.9.0,>=0.8.4 in /usr/local/lib/python3.11/dist-packages (from jedi>=0.16->ipython>=5.3.0->cufflinks) (0.8.4)\n",
            "Requirement already satisfied: ptyprocess>=0.5 in /usr/local/lib/python3.11/dist-packages (from pexpect>4.3->ipython>=5.3.0->cufflinks) (0.7.0)\n",
            "Requirement already satisfied: wcwidth in /usr/local/lib/python3.11/dist-packages (from prompt-toolkit!=3.0.0,!=3.0.1,<3.1.0,>=2.0.0->ipython>=5.3.0->cufflinks) (0.2.13)\n",
            "Requirement already satisfied: notebook>=4.4.1 in /usr/local/lib/python3.11/dist-packages (from widgetsnbextension~=3.6.0->ipywidgets>=7.0.0->cufflinks) (6.5.7)\n",
            "Requirement already satisfied: jupyter-core>=4.6.0 in /usr/local/lib/python3.11/dist-packages (from jupyter-client>=6.1.12->ipykernel>=4.5.1->ipywidgets>=7.0.0->cufflinks) (5.7.2)\n",
            "Requirement already satisfied: jinja2 in /usr/local/lib/python3.11/dist-packages (from notebook>=4.4.1->widgetsnbextension~=3.6.0->ipywidgets>=7.0.0->cufflinks) (3.1.6)\n",
            "Requirement already satisfied: argon2-cffi in /usr/local/lib/python3.11/dist-packages (from notebook>=4.4.1->widgetsnbextension~=3.6.0->ipywidgets>=7.0.0->cufflinks) (23.1.0)\n",
            "Requirement already satisfied: nbformat in /usr/local/lib/python3.11/dist-packages (from notebook>=4.4.1->widgetsnbextension~=3.6.0->ipywidgets>=7.0.0->cufflinks) (5.10.4)\n",
            "Requirement already satisfied: nbconvert>=5 in /usr/local/lib/python3.11/dist-packages (from notebook>=4.4.1->widgetsnbextension~=3.6.0->ipywidgets>=7.0.0->cufflinks) (7.16.6)\n",
            "Requirement already satisfied: Send2Trash>=1.8.0 in /usr/local/lib/python3.11/dist-packages (from notebook>=4.4.1->widgetsnbextension~=3.6.0->ipywidgets>=7.0.0->cufflinks) (1.8.3)\n",
            "Requirement already satisfied: terminado>=0.8.3 in /usr/local/lib/python3.11/dist-packages (from notebook>=4.4.1->widgetsnbextension~=3.6.0->ipywidgets>=7.0.0->cufflinks) (0.18.1)\n",
            "Requirement already satisfied: prometheus-client in /usr/local/lib/python3.11/dist-packages (from notebook>=4.4.1->widgetsnbextension~=3.6.0->ipywidgets>=7.0.0->cufflinks) (0.21.1)\n",
            "Requirement already satisfied: nbclassic>=0.4.7 in /usr/local/lib/python3.11/dist-packages (from notebook>=4.4.1->widgetsnbextension~=3.6.0->ipywidgets>=7.0.0->cufflinks) (1.2.0)\n",
            "Requirement already satisfied: platformdirs>=2.5 in /usr/local/lib/python3.11/dist-packages (from jupyter-core>=4.6.0->jupyter-client>=6.1.12->ipykernel>=4.5.1->ipywidgets>=7.0.0->cufflinks) (4.3.7)\n",
            "Requirement already satisfied: notebook-shim>=0.2.3 in /usr/local/lib/python3.11/dist-packages (from nbclassic>=0.4.7->notebook>=4.4.1->widgetsnbextension~=3.6.0->ipywidgets>=7.0.0->cufflinks) (0.2.4)\n",
            "Requirement already satisfied: beautifulsoup4 in /usr/local/lib/python3.11/dist-packages (from nbconvert>=5->notebook>=4.4.1->widgetsnbextension~=3.6.0->ipywidgets>=7.0.0->cufflinks) (4.13.3)\n",
            "Requirement already satisfied: bleach!=5.0.0 in /usr/local/lib/python3.11/dist-packages (from bleach[css]!=5.0.0->nbconvert>=5->notebook>=4.4.1->widgetsnbextension~=3.6.0->ipywidgets>=7.0.0->cufflinks) (6.2.0)\n",
            "Requirement already satisfied: defusedxml in /usr/local/lib/python3.11/dist-packages (from nbconvert>=5->notebook>=4.4.1->widgetsnbextension~=3.6.0->ipywidgets>=7.0.0->cufflinks) (0.7.1)\n",
            "Requirement already satisfied: jupyterlab-pygments in /usr/local/lib/python3.11/dist-packages (from nbconvert>=5->notebook>=4.4.1->widgetsnbextension~=3.6.0->ipywidgets>=7.0.0->cufflinks) (0.3.0)\n",
            "Requirement already satisfied: markupsafe>=2.0 in /usr/local/lib/python3.11/dist-packages (from nbconvert>=5->notebook>=4.4.1->widgetsnbextension~=3.6.0->ipywidgets>=7.0.0->cufflinks) (3.0.2)\n",
            "Requirement already satisfied: mistune<4,>=2.0.3 in /usr/local/lib/python3.11/dist-packages (from nbconvert>=5->notebook>=4.4.1->widgetsnbextension~=3.6.0->ipywidgets>=7.0.0->cufflinks) (3.1.3)\n",
            "Requirement already satisfied: nbclient>=0.5.0 in /usr/local/lib/python3.11/dist-packages (from nbconvert>=5->notebook>=4.4.1->widgetsnbextension~=3.6.0->ipywidgets>=7.0.0->cufflinks) (0.10.2)\n",
            "Requirement already satisfied: pandocfilters>=1.4.1 in /usr/local/lib/python3.11/dist-packages (from nbconvert>=5->notebook>=4.4.1->widgetsnbextension~=3.6.0->ipywidgets>=7.0.0->cufflinks) (1.5.1)\n",
            "Requirement already satisfied: fastjsonschema>=2.15 in /usr/local/lib/python3.11/dist-packages (from nbformat->notebook>=4.4.1->widgetsnbextension~=3.6.0->ipywidgets>=7.0.0->cufflinks) (2.21.1)\n",
            "Requirement already satisfied: jsonschema>=2.6 in /usr/local/lib/python3.11/dist-packages (from nbformat->notebook>=4.4.1->widgetsnbextension~=3.6.0->ipywidgets>=7.0.0->cufflinks) (4.23.0)\n",
            "Requirement already satisfied: argon2-cffi-bindings in /usr/local/lib/python3.11/dist-packages (from argon2-cffi->notebook>=4.4.1->widgetsnbextension~=3.6.0->ipywidgets>=7.0.0->cufflinks) (21.2.0)\n",
            "Requirement already satisfied: webencodings in /usr/local/lib/python3.11/dist-packages (from bleach!=5.0.0->bleach[css]!=5.0.0->nbconvert>=5->notebook>=4.4.1->widgetsnbextension~=3.6.0->ipywidgets>=7.0.0->cufflinks) (0.5.1)\n",
            "Requirement already satisfied: tinycss2<1.5,>=1.1.0 in /usr/local/lib/python3.11/dist-packages (from bleach[css]!=5.0.0->nbconvert>=5->notebook>=4.4.1->widgetsnbextension~=3.6.0->ipywidgets>=7.0.0->cufflinks) (1.4.0)\n",
            "Requirement already satisfied: attrs>=22.2.0 in /usr/local/lib/python3.11/dist-packages (from jsonschema>=2.6->nbformat->notebook>=4.4.1->widgetsnbextension~=3.6.0->ipywidgets>=7.0.0->cufflinks) (25.3.0)\n",
            "Requirement already satisfied: jsonschema-specifications>=2023.03.6 in /usr/local/lib/python3.11/dist-packages (from jsonschema>=2.6->nbformat->notebook>=4.4.1->widgetsnbextension~=3.6.0->ipywidgets>=7.0.0->cufflinks) (2024.10.1)\n",
            "Requirement already satisfied: referencing>=0.28.4 in /usr/local/lib/python3.11/dist-packages (from jsonschema>=2.6->nbformat->notebook>=4.4.1->widgetsnbextension~=3.6.0->ipywidgets>=7.0.0->cufflinks) (0.36.2)\n",
            "Requirement already satisfied: rpds-py>=0.7.1 in /usr/local/lib/python3.11/dist-packages (from jsonschema>=2.6->nbformat->notebook>=4.4.1->widgetsnbextension~=3.6.0->ipywidgets>=7.0.0->cufflinks) (0.24.0)\n",
            "Requirement already satisfied: jupyter-server<3,>=1.8 in /usr/local/lib/python3.11/dist-packages (from notebook-shim>=0.2.3->nbclassic>=0.4.7->notebook>=4.4.1->widgetsnbextension~=3.6.0->ipywidgets>=7.0.0->cufflinks) (1.16.0)\n",
            "Requirement already satisfied: cffi>=1.0.1 in /usr/local/lib/python3.11/dist-packages (from argon2-cffi-bindings->argon2-cffi->notebook>=4.4.1->widgetsnbextension~=3.6.0->ipywidgets>=7.0.0->cufflinks) (1.17.1)\n",
            "Requirement already satisfied: soupsieve>1.2 in /usr/local/lib/python3.11/dist-packages (from beautifulsoup4->nbconvert>=5->notebook>=4.4.1->widgetsnbextension~=3.6.0->ipywidgets>=7.0.0->cufflinks) (2.6)\n",
            "Requirement already satisfied: typing-extensions>=4.0.0 in /usr/local/lib/python3.11/dist-packages (from beautifulsoup4->nbconvert>=5->notebook>=4.4.1->widgetsnbextension~=3.6.0->ipywidgets>=7.0.0->cufflinks) (4.13.1)\n",
            "Requirement already satisfied: pycparser in /usr/local/lib/python3.11/dist-packages (from cffi>=1.0.1->argon2-cffi-bindings->argon2-cffi->notebook>=4.4.1->widgetsnbextension~=3.6.0->ipywidgets>=7.0.0->cufflinks) (2.22)\n",
            "Requirement already satisfied: anyio>=3.1.0 in /usr/local/lib/python3.11/dist-packages (from jupyter-server<3,>=1.8->notebook-shim>=0.2.3->nbclassic>=0.4.7->notebook>=4.4.1->widgetsnbextension~=3.6.0->ipywidgets>=7.0.0->cufflinks) (4.9.0)\n",
            "Requirement already satisfied: websocket-client in /usr/local/lib/python3.11/dist-packages (from jupyter-server<3,>=1.8->notebook-shim>=0.2.3->nbclassic>=0.4.7->notebook>=4.4.1->widgetsnbextension~=3.6.0->ipywidgets>=7.0.0->cufflinks) (1.8.0)\n",
            "Requirement already satisfied: idna>=2.8 in /usr/local/lib/python3.11/dist-packages (from anyio>=3.1.0->jupyter-server<3,>=1.8->notebook-shim>=0.2.3->nbclassic>=0.4.7->notebook>=4.4.1->widgetsnbextension~=3.6.0->ipywidgets>=7.0.0->cufflinks) (3.10)\n",
            "Requirement already satisfied: sniffio>=1.1 in /usr/local/lib/python3.11/dist-packages (from anyio>=3.1.0->jupyter-server<3,>=1.8->notebook-shim>=0.2.3->nbclassic>=0.4.7->notebook>=4.4.1->widgetsnbextension~=3.6.0->ipywidgets>=7.0.0->cufflinks) (1.3.1)\n"
          ]
        }
      ]
    },
    {
      "cell_type": "code",
      "execution_count": null,
      "metadata": {
        "id": "3PylRRBAXVtd"
      },
      "outputs": [],
      "source": [
        "import pandas as pd\n",
        "import matplotlib.pyplot as plt\n",
        "import seaborn as sns\n",
        "import plotly.express as px\n",
        "import plotly.offline as pyo\n",
        "import plotly.io as pio\n",
        "import plotly.graph_objects as go\n"
      ]
    },
    {
      "cell_type": "markdown",
      "source": [
        "#Import des données"
      ],
      "metadata": {
        "id": "iaZHvkYne6oQ"
      }
    },
    {
      "cell_type": "code",
      "source": [
        "def importer_donnees(chemin_fichier):\n",
        "  \"\"\"\n",
        "  Importe les données d'un fichier CSV.\n",
        "\n",
        "  Args:\n",
        "    chemin_fichier: Le chemin d'accès au fichier CSV.\n",
        "\n",
        "  Returns:\n",
        "    Un DataFrame pandas contenant les données.\n",
        "  \"\"\"\n",
        "  df = pd.read_csv(chemin_fichier)\n",
        "  return df"
      ],
      "metadata": {
        "id": "tv-ROeeWti9C"
      },
      "execution_count": null,
      "outputs": []
    },
    {
      "cell_type": "code",
      "source": [
        "# Créer un dictionnaire avec le rennommage des noms de colonnes\n",
        "new_column_names = {\n",
        "    'brand_name': 'Marque',\n",
        "    'model': 'Modèle',\n",
        "    'price': 'Prix',\n",
        "    'avg_rating': 'Note Moyenne',\n",
        "    '5G_or_not': '5G',\n",
        "    'processor_brand': 'Marque Processeur',\n",
        "    'num_cores': 'Nombre de Coeurs',\n",
        "    'processor_speed': 'Vitesse Processeur',\n",
        "    'battery_capacity': 'Capacité Batterie',\n",
        "    'fast_charging_available': 'Charge Rapide Disponible',\n",
        "    'fast_charging': 'Charge Rapide',\n",
        "    'ram_capacity': 'RAM',\n",
        "    'internal_memory': 'Mémoire Interne',\n",
        "    'screen_size': 'Taille Écran',\n",
        "    'refresh_rate': 'Taux de Rafraîchissement',\n",
        "    'num_rear_cameras': 'Nombre Caméras Arrière',\n",
        "    'os': 'Système d''exploitation',\n",
        "    'primary_camera_rear': 'Caméra Principale Arrière',\n",
        "    'primary_camera_front': 'Caméra Principale Avant',\n",
        "    'extended_memory_available': 'Mémoire Extensible',\n",
        "    'resolution_height': 'Résolution Hauteur',\n",
        "    'resolution_width': 'Résolution Largeur'\n",
        "}"
      ],
      "metadata": {
        "id": "RpzPYqM2ukyF"
      },
      "execution_count": null,
      "outputs": []
    },
    {
      "cell_type": "code",
      "source": [
        "def renommer_colonnes(df, new_column_names):\n",
        "  \"\"\"\n",
        "  Renomme les colonnes d'un DataFrame.\n",
        "\n",
        "  Args:\n",
        "    df: Le DataFrame pandas.\n",
        "    new_column_names: Un dictionnaire avec les traductions des noms de colonnes.\n",
        "\n",
        "  Returns:\n",
        "    Un DataFrame pandas avec les colonnes renommées.\n",
        "  \"\"\"\n",
        "  df = df.rename(columns=new_column_names)\n",
        "  return df"
      ],
      "metadata": {
        "id": "teqvJP6Ntm1E"
      },
      "execution_count": null,
      "outputs": []
    },
    {
      "cell_type": "code",
      "source": [
        "def convertir_prix(df, colonne_prix, devise_source, devise_cible):\n",
        "  \"\"\"\n",
        "  Convertit les prix d'une colonne d'un DataFrame et remplace la colonne originale.\n",
        "\n",
        "  Args:\n",
        "    df: Le DataFrame pandas.\n",
        "    colonne_prix: Le nom de la colonne contenant les prix.\n",
        "    devise_source: La devise source.\n",
        "    devise_cible: La devise cible.\n",
        "\n",
        "  Returns:\n",
        "    Un DataFrame pandas avec les prix convertis dans la colonne originale.\n",
        "  \"\"\"\n",
        "  c = CurrencyRates()\n",
        "  taux_de_change = 0.012  # Taux de change fixe pour INR vers EUR\n",
        "  df[colonne_prix] = df[colonne_prix].apply(lambda x: x * taux_de_change)\n",
        "  return df"
      ],
      "metadata": {
        "id": "TvaiAtvStp8V"
      },
      "execution_count": null,
      "outputs": []
    },
    {
      "cell_type": "code",
      "source": [
        "def pre_traitement(df):\n",
        "    # Vos fonctions de pré-traitement ici (ex: nettoyage, transformation, etc.)\n",
        "    df = renommer_colonnes(df, new_column_names)\n",
        "    df = convertir_prix(df, 'Prix', 'INR', 'EUR')\n",
        "    return df"
      ],
      "metadata": {
        "id": "pDu9jwhTyId0"
      },
      "execution_count": null,
      "outputs": []
    },
    {
      "cell_type": "code",
      "source": [
        "#résumé du dataframe pour mieux comprendre la structure des données\n",
        "def analyse_descriptive(df):\n",
        "    # Vos fonctions d'analyse descriptive ici (ex: statistiques, distributions, etc.)\n",
        "    print(\"Nombre de lignes :\", df.shape[0])\n",
        "    df.info()\n",
        "    df.describe()\n",
        "    return  # ou retourner des résultats si besoin\n"
      ],
      "metadata": {
        "id": "XiytjF3-yO3w"
      },
      "execution_count": null,
      "outputs": []
    },
    {
      "cell_type": "markdown",
      "source": [
        "#Traitement"
      ],
      "metadata": {
        "id": "y4-unbv6x__B"
      }
    },
    {
      "cell_type": "code",
      "source": [
        "# Importer les données, modifier le chemin du fichier si besoin\n",
        "df = importer_donnees('/content/sample_data/smartphones.csv')"
      ],
      "metadata": {
        "id": "dNuB2OGRX0TJ"
      },
      "execution_count": null,
      "outputs": []
    },
    {
      "cell_type": "code",
      "source": [
        "df = pre_traitement(df)"
      ],
      "metadata": {
        "id": "-5mcSwk_0NwH"
      },
      "execution_count": null,
      "outputs": []
    },
    {
      "cell_type": "markdown",
      "source": [
        "#Description des data"
      ],
      "metadata": {
        "id": "qvRItZuOfEkm"
      }
    },
    {
      "cell_type": "code",
      "source": [
        "analyse_descriptive(df)"
      ],
      "metadata": {
        "id": "ovohf0Lqya3K"
      },
      "execution_count": null,
      "outputs": []
    },
    {
      "cell_type": "code",
      "source": [],
      "metadata": {
        "id": "Bbm8izJV2CZ0"
      },
      "execution_count": null,
      "outputs": []
    },
    {
      "cell_type": "markdown",
      "source": [
        "# Data Viz"
      ],
      "metadata": {
        "id": "FPt0rdOveZy3"
      }
    },
    {
      "cell_type": "code",
      "source": [
        "import plotly.graph_objects as go\n",
        "import plotly.offline as pyo\n",
        "import plotly.io as pio\n",
        "pio.renderers.default = 'colab'\n",
        "import plotly.express as px\n",
        "import pandas as pd # Import pandas for data manipulation\n",
        "\n",
        "fig = px.line(x=[1, 2, 3], y=[4, 5, 6])\n",
        "\n",
        "# Calculate average prices for each brand\n",
        "average_prices = df.groupby('Marque')['Prix'].mean().reset_index()\n",
        "\n",
        "# Get the top 5 most expensive brands\n",
        "top_5_expensive_brands = average_prices.sort_values(by='Prix', ascending=False).head(5)\n",
        "\n",
        "# Create the bar chart with Plotly\n",
        "fig = go.Figure()\n",
        "fig.add_trace(go.Bar(x=top_5_expensive_brands['Marque'], y=top_5_expensive_brands['Prix']))\n",
        "\n",
        "# Customize the chart\n",
        "fig.update_layout(\n",
        "    title='Top 5 des marques les plus chères par prix moyen',\n",
        "    xaxis_title='Marque',\n",
        "    yaxis_title='Prix moyen',\n",
        "    plot_bgcolor='black',\n",
        "    paper_bgcolor='#595964',\n",
        "    font=dict(color='white')\n",
        ")\n",
        "\n",
        "# Display the chart\n",
        "fig.show()"
      ],
      "metadata": {
        "id": "VXSQSus_w-4-"
      },
      "execution_count": null,
      "outputs": []
    },
    {
      "cell_type": "code",
      "source": [
        "# Créer une nouvelle colonne \"Marque_groupe\" qui regroupe les marques ayant moins de 10 occurrences sous l'étiquette 'Autres'. N'hésitez pas à ajuster ce seuil (10) selon vos données.\n",
        "df['Marque_groupe'] = df['Marque'].apply(lambda x: x if df['Marque'].value_counts()[x] > 10 else 'Autres')\n",
        "\n",
        "# Créer le boxplot avec la nouvelle colonne\n",
        "sns.boxplot(x='Marque_groupe', y='Prix', data=df)\n",
        "plt.title('Distribution des prix par marque')\n",
        "plt.xticks(rotation=45, ha='right')\n",
        "plt.show()"
      ],
      "metadata": {
        "id": "apL3c-fGeZm7"
      },
      "execution_count": null,
      "outputs": []
    },
    {
      "cell_type": "code",
      "source": [
        "sns.violinplot(x='Marque_groupe', y='Prix', data=df)\n",
        "plt.title('Distribution des prix par marque')\n",
        "plt.xticks(rotation=45, ha='right')\n",
        "plt.show()"
      ],
      "metadata": {
        "id": "tZ8l6f2tow-Y"
      },
      "execution_count": null,
      "outputs": []
    },
    {
      "cell_type": "code",
      "source": [
        "g = sns.FacetGrid(df, col='Marque', col_wrap=4, sharey=False) # col_wrap=4 crée 4 graphiques par ligne\n",
        "g.map(sns.boxplot, 'Prix')\n",
        "plt.show()"
      ],
      "metadata": {
        "id": "0qqgq9wapAru"
      },
      "execution_count": null,
      "outputs": []
    },
    {
      "cell_type": "code",
      "source": [
        "sns.boxplot(x='Marque', y='Prix', data=df)\n",
        "plt.title('Distribution des prix par marque')\n",
        "plt.xticks(rotation=45, ha='right')\n",
        "plt.yscale('log') # Appliquer l'échelle logarithmique\n",
        "plt.show()"
      ],
      "metadata": {
        "id": "4vSG3H8ppLad"
      },
      "execution_count": null,
      "outputs": []
    },
    {
      "cell_type": "code",
      "source": [
        "import plotly.express as px\n",
        "\n",
        "# Calculer la moyenne des prix pour chaque marque\n",
        "order = df.groupby('Marque')['Prix'].mean().sort_values(ascending=False).index\n",
        "\n",
        "# Créer le boxplot avec l'ordre spécifié\n",
        "fig = px.box(df,\n",
        "             x='Marque',\n",
        "             y='Prix',\n",
        "             title='Distribution des prix par marque (trié par moyenne)',\n",
        "             category_orders={'Marque': order.tolist()},\n",
        "             hover_data=['Modèle'])  # Afficher le modèle au survol\n",
        "fig.update_xaxes(tickangle=45)\n",
        "fig.update_layout(width=1000, height=600)  # Ajuster la taille\n",
        "fig.show()"
      ],
      "metadata": {
        "id": "hmUN91-xpSZB"
      },
      "execution_count": null,
      "outputs": []
    },
    {
      "cell_type": "code",
      "source": [
        "sns.scatterplot(x='RAM', y='Prix', hue='Marque', data=df)\n",
        "plt.xlabel('RAM')\n",
        "plt.ylabel('Prix')\n",
        "plt.title('RAM vs Prix par Marque')\n",
        "plt.legend() # adding a legend to the plot\n",
        "plt.show()"
      ],
      "metadata": {
        "id": "oq2FDnRbb1fQ"
      },
      "execution_count": null,
      "outputs": []
    },
    {
      "cell_type": "code",
      "source": [
        "sns.scatterplot(x='RAM', y='Prix', hue='5G', data=df)\n",
        "plt.xlabel('RAM')\n",
        "plt.ylabel('Prix')\n",
        "plt.title('RAM vs Prix par 5G')\n",
        "plt.legend() # adding a legend to the plot\n",
        "plt.show()"
      ],
      "metadata": {
        "id": "g3uoYkn5gUEk"
      },
      "execution_count": null,
      "outputs": []
    },
    {
      "cell_type": "code",
      "source": [
        "sns.violinplot(x='Système dexploitation', y='Note Moyenne', data=df)\n",
        "plt.title('Distribution des notes par système dexploitation')\n",
        "plt.xticks(rotation=45, ha='right')\n",
        "plt.show()"
      ],
      "metadata": {
        "id": "aVMpCgelnU98"
      },
      "execution_count": null,
      "outputs": []
    },
    {
      "cell_type": "code",
      "source": [
        "fig = px.bar(df.groupby('Marque Processeur')['Prix'].mean().reset_index(),\n",
        "             x='Marque Processeur', y='Prix', title='Prix moyen par marque de processeur')\n",
        "fig.update_xaxes(tickangle=45, tickmode='linear')\n",
        "fig.show()"
      ],
      "metadata": {
        "id": "mERSD1kdnbL6"
      },
      "execution_count": null,
      "outputs": []
    },
    {
      "cell_type": "code",
      "source": [
        "sns.violinplot(x='Marque', y='Note Moyenne', data=df)\n",
        "plt.title('Distribution des notes par marque')\n",
        "plt.xticks(rotation=45, ha='right')\n",
        "plt.show()"
      ],
      "metadata": {
        "id": "73-90l_tgXzv"
      },
      "execution_count": null,
      "outputs": []
    },
    {
      "cell_type": "code",
      "source": [
        "# Calculate the average prices for each brand\n",
        "average_prices = df.groupby('Marque')['Prix'].mean().reset_index()\n",
        "\n",
        "# Sort brands by average price in descending order and get the top 20\n",
        "top_20_brands = average_prices.sort_values(by='Prix', ascending=False).head(20)\n",
        "\n",
        "# Create the bar chart with Plotly, using only the top 20 brands\n",
        "fig = px.bar(\n",
        "    top_20_brands,  # Use the DataFrame containing only the top 20 brands\n",
        "    x='Marque',\n",
        "    y='Prix',\n",
        "    title='Prix moyen des 20 marques les plus chères'\n",
        ")\n",
        "\n",
        "fig.update_xaxes(tickangle=45, tickmode='linear')\n",
        "fig.show()"
      ],
      "metadata": {
        "id": "NqSjk1Z0gb3k"
      },
      "execution_count": null,
      "outputs": []
    },
    {
      "cell_type": "code",
      "source": [
        "for col in ['Taille Écran', 'Prix', 'Capacité Batterie']:\n",
        "    df[col] = df[col].fillna(df[col].median())\n",
        "\n",
        "# Create the scatter plot\n",
        "fig = px.scatter(\n",
        "    df,\n",
        "    x='Taille Écran',\n",
        "    y='Prix',\n",
        "    size='Capacité Batterie',\n",
        "    color='Marque',  # Make sure this column name matches your DataFrame\n",
        "    title=\"Taille de l'écran vs Prix, avec Capacité Batterie comme taille des points\",\n",
        "    hover_data=['Modèle']\n",
        ")\n",
        "fig.show()"
      ],
      "metadata": {
        "id": "089Tpp3jjBWn"
      },
      "execution_count": null,
      "outputs": []
    },
    {
      "cell_type": "code",
      "source": [
        "numerical_df = df.select_dtypes(include=['number'])\n",
        "\n",
        "fig = px.imshow(\n",
        "    numerical_df.corr(),  # Use the DataFrame with only numerical columns\n",
        "    title='Matrice de corrélation',\n",
        "    x=numerical_df.columns,\n",
        "    y=numerical_df.columns,\n",
        "    color_continuous_scale='RdBu',\n",
        "    text_auto=True,\n",
        "    aspect=\"auto\"\n",
        ")\n",
        "\n",
        "fig.update_layout(\n",
        "    width=800,\n",
        "    height=800\n",
        ")\n",
        "\n",
        "fig.show()"
      ],
      "metadata": {
        "id": "moqQIzB0nl5P"
      },
      "execution_count": null,
      "outputs": []
    }
  ]
}